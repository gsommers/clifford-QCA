{
 "cells": [
  {
   "cell_type": "code",
   "execution_count": null,
   "metadata": {},
   "outputs": [],
   "source": [
    "# adds the modules from this repo to the path\n",
    "push!(LOAD_PATH, \"../\")"
   ]
  },
  {
   "cell_type": "code",
   "execution_count": null,
   "metadata": {},
   "outputs": [],
   "source": [
    "# external dependencies\n",
    "using Revise\n",
    "using QuantumClifford\n",
    "using LaTeXStrings\n",
    "using ProgressMeter\n",
    "using Utilities\n",
    "using Plots\n",
    "Plots.pyplot()\n",
    "using Nemo\n",
    "using JLD2"
   ]
  },
  {
   "cell_type": "code",
   "execution_count": null,
   "metadata": {
    "scrolled": false
   },
   "outputs": [],
   "source": [
    "# modules in this repo\n",
    "using FieldConversions\n",
    "using Automata\n",
    "using CircuitLabels\n",
    "using PlotUtils\n",
    "using AutomataPlots"
   ]
  },
  {
   "cell_type": "code",
   "execution_count": null,
   "metadata": {},
   "outputs": [],
   "source": [
    "default(titlefont = (\"times\"), framestyle = :box, grid=false,linewidth=1.5,tickfontsize=9,legendfontsize=8.5,\n",
    "    labelfontsize=12)"
   ]
  },
  {
   "cell_type": "code",
   "execution_count": null,
   "metadata": {},
   "outputs": [],
   "source": [
    "automata = read_automata([(time = 2, space = 2, shift = 0), (time = 1, space = 2,shift=1), \n",
    "        (time = 4, space = 4, shift = 0)]; dir = \"../data/\");"
   ]
  },
  {
   "cell_type": "markdown",
   "metadata": {},
   "source": [
    "### Square lattice plots"
   ]
  },
  {
   "cell_type": "markdown",
   "metadata": {},
   "source": [
    "  - Index 8: non-fractal good scrambling class.\n",
    "  - Index 9: fractal d_f=1.9 class.\n",
    "  - Index 15: SDKI class."
   ]
  },
  {
   "cell_type": "code",
   "execution_count": null,
   "metadata": {},
   "outputs": [],
   "source": [
    "titles = Dict(8=>\"Nonfractal good scrambling class\", 15=>\"SDKI class\", 9=>\"Fractal \" * L\"d_f\\approx 1.9\" * \" class\");"
   ]
  },
  {
   "cell_type": "code",
   "execution_count": null,
   "metadata": {},
   "outputs": [],
   "source": [
    "rep_idxs = [get_idx_1d(idx) for idx=[[1,1],[1,2],[1,3],[3,3],[2,3],[2,2]]];"
   ]
  },
  {
   "cell_type": "code",
   "execution_count": null,
   "metadata": {},
   "outputs": [],
   "source": [
    "[get_gate_label(idx) for idx in rep_idxs]"
   ]
  },
  {
   "cell_type": "markdown",
   "metadata": {},
   "source": [
    "### Integer time steps"
   ]
  },
  {
   "cell_type": "code",
   "execution_count": null,
   "metadata": {},
   "outputs": [],
   "source": [
    "tf=256\n",
    "dims=(time=2,space=2,shift=0)\n",
    "automaton_powers = Dict()\n",
    "@showprogress for idx in [8,9,15]\n",
    "    pows = get_powers(automata[dims][idx]; tf=tf)\n",
    "    automaton_powers[idx] = [automaton_to_matrix(Matrix(pows[t+1]), t) for t=0:tf]\n",
    "end"
   ]
  },
  {
   "cell_type": "code",
   "execution_count": null,
   "metadata": {},
   "outputs": [],
   "source": [
    "stabs = Dict()\n",
    "# if running on laptop, best to only try plotting to shortish time\n",
    "tf=64\n",
    "for idx in [8,9,15]\n",
    "    stabs[idx] = [get_pauli_image(automaton_powers[idx],i,1; tf=tf, stabilize=false) \n",
    "        for i=1:2*dims.space]\n",
    "end"
   ]
  },
  {
   "cell_type": "code",
   "execution_count": null,
   "metadata": {
    "scrolled": true
   },
   "outputs": [],
   "source": [
    "all_plots = []\n",
    "bins = Bool[0,0,1,0]\n",
    "tag=\"Z\"\n",
    "for idx=[8,9,15]\n",
    "    tag, p = plot_together(bins, stabs[idx], dims.space; print = true, aspect = dims.time)\n",
    "    push!(all_plots, p)\n",
    "end\n",
    "plt = Plots.plot(all_plots..., layout=(1,3),size=(900,300),axis=false)"
   ]
  },
  {
   "cell_type": "code",
   "execution_count": null,
   "metadata": {},
   "outputs": [],
   "source": [
    "# Plot operator spreading for each Pauli within one unit cell\n",
    "idx = 9\n",
    "all_plots = []\n",
    "for i=1:2^(2*dims.space)-1\n",
    "    bins = get_binaries(i, 2*dims.space)\n",
    "    tag, p = plot_together(bins, stabs[idx], dims.space, aspect = dims.space)\n",
    "    push!(all_plots, Plots.plot(p, title = tag, xlabel = L\"x\", ylabel = L\"t\"))\n",
    "end\n",
    "plt = Plots.plot(all_plots...)\n",
    "p = plot_suptitle(plt, \"Operator spreading in iSWAP-core square-lattice circuit, \" * L\"(v_+, v_-) = \" *get_gate_label(idx), \n",
    "    num_plots = length(all_plots), rel_size = (1,0.7))"
   ]
  },
  {
   "cell_type": "code",
   "execution_count": null,
   "metadata": {},
   "outputs": [],
   "source": [
    "# plot image on odd and even sites separately\n",
    "idx = 15\n",
    "bins = Bool[0, 0, 1,0]\n",
    "tag, all_plots = plot_separate(bins, stabs[idx], dims.space; print=true)\n",
    "for j=1:dims.space\n",
    "    if j%2==0\n",
    "        Plots.plot!(all_plots[j],yformatter=_->\"\")\n",
    "    else\n",
    "        Plots.plot!(all_plots[j], ylabel = L\"t\")\n",
    "    end\n",
    "    Plots.plot!(all_plots[j], xlabel = L\"n\")\n",
    "    Plots.annotate!((-tf*0.85, tf/4,get_legend_key(j, lab=\"j\")), annotationhalign=:left,annotationfontsize=12)\n",
    "end\n",
    "plt=Plots.plot(all_plots...,layout=(1,2),share_y=true)\n",
    "p = plot_suptitle(plt, \"$(titles[idx]), $(tag)\", size = (600,300))"
   ]
  },
  {
   "cell_type": "code",
   "execution_count": null,
   "metadata": {
    "scrolled": true
   },
   "outputs": [],
   "source": [
    "# plot I, X, Y, Z in footprint separately\n",
    "idx = 8\n",
    "tag, plots = plot_paulis(bins, stabs[idx], dims.space, dims.time; print=true)\n",
    "plt=Plots.plot(plots...,layout=(2,2),share_x=true, share_y=true)\n",
    "p = plot_suptitle(plt, \"$(titles[idx]), $(tag)\",size = (550,450))"
   ]
  },
  {
   "cell_type": "code",
   "execution_count": null,
   "metadata": {},
   "outputs": [],
   "source": [
    "### Run out to much longer times and fit fractal dimension\n",
    "idx = 9\n",
    "tf = 1024\n",
    "pows = get_powers(automata[dims][idx]; tf=tf)\n",
    "automat_pows = [automaton_to_matrix(Matrix(pows[t+1]), t) for t=0:tf]\n",
    "stabs_long = [get_pauli_image(automat_pows,i,dims.time÷dims.space; tf=tf, stabilize=false) \n",
    "        for i=1:2*dims.space]"
   ]
  },
  {
   "cell_type": "code",
   "execution_count": null,
   "metadata": {},
   "outputs": [],
   "source": [
    "all_plots = []\n",
    "res_plots = []\n",
    "legend=:topleft\n",
    "all_fits = []\n",
    "all_counts = []\n",
    "@showprogress for i=1:2^(2*dims.space)-1\n",
    "    tag, plots, fits, counts = fit_paulis(get_binaries(i, 2*dims.space), stabs_long, dims.space, dims.time; print=true, xmin=2^6)\n",
    "    push!(all_plots, Plots.plot(plots[1], title = tag, legend = legend))\n",
    "    push!(res_plots, Plots.plot(plots[2], title = tag, legend = legend))\n",
    "    push!(all_fits, fits)\n",
    "    push!(all_counts, counts)\n",
    "    legend = false\n",
    "end"
   ]
  },
  {
   "cell_type": "code",
   "execution_count": null,
   "metadata": {},
   "outputs": [],
   "source": [
    "xdata = 1:2^(2*dims.space)-1\n",
    "plt_fits = Plots.plot(xlabel = L\"i\", ylabel = L\"d_f\", title = \"Fits\", legend=false)\n",
    "for (pauli_i,pauli) in enumerate([L\"I\", L\"X\", L\"Y\", L\"Z\"])\n",
    "    use_x = filter(x->haskey(all_fits[x], pauli), xdata)\n",
    "    Plots.scatter!(use_x, [all_fits[i][pauli][1][1] for i=use_x], yerror=[all_fits[i][pauli][2][1] for i=use_x],\n",
    "        msc=AutomataPlots.COLOR_ARR[pauli_i], color = AutomataPlots.COLOR_ARR[pauli_i])\n",
    "end\n",
    "plt = Plots.plot(all_plots..., plt_fits)\n",
    "p = plot_suptitle(plt, \"Cumulative counts of Paulis within light cone, $(titles[idx])\", num_plots = length(all_plots))"
   ]
  },
  {
   "cell_type": "code",
   "execution_count": null,
   "metadata": {
    "scrolled": true
   },
   "outputs": [],
   "source": [
    "plt = Plots.plot([Plots.plot(p, xlabel = L\"t\", ylabel = L\"\\log \\sum N_\\sigma (t')-\" * \"fit\", xscale=:log2) \n",
    "        for p in res_plots]..., plt_fits)\n",
    "p = plot_suptitle(plt, \"Residuals from fit to fractal dimension, $(titles[idx])\", num_plots=length(res_plots))"
   ]
  },
  {
   "cell_type": "markdown",
   "metadata": {},
   "source": [
    "### Tracking the trace"
   ]
  },
  {
   "cell_type": "code",
   "execution_count": null,
   "metadata": {},
   "outputs": [],
   "source": [
    "tf=2^14;"
   ]
  },
  {
   "cell_type": "code",
   "execution_count": null,
   "metadata": {},
   "outputs": [],
   "source": [
    "trace_pows = get_automaton_traces(automata[dims][rep_idxs]; tf=tf);"
   ]
  },
  {
   "cell_type": "code",
   "execution_count": null,
   "metadata": {},
   "outputs": [],
   "source": [
    "laurent_arrs = [[laurent_to_array(trace[t], t, check=false) for t=1:tf]\n",
    "    for trace in trace_pows];"
   ]
  },
  {
   "cell_type": "code",
   "execution_count": null,
   "metadata": {},
   "outputs": [],
   "source": [
    "trace_plots = Dict()\n",
    "for idx_i=1:length(rep_idxs)\n",
    "    trace_plots[rep_idxs[idx_i]] = plot_trace(laurent_arrs[idx_i], 2^8; ttl = get_gate_label(rep_idxs[idx_i]), xmin=2^6)\n",
    "end"
   ]
  },
  {
   "cell_type": "code",
   "execution_count": null,
   "metadata": {},
   "outputs": [],
   "source": [
    "plt= Plots.plot([trace_plots[idx][:plot_nonzero] for idx in rep_idxs]..., titlefontsize=10)\n",
    "p = plot_suptitle(plt, \"Traces of CNOT CQCA, number of nonzero coefficients\", num_plots = length(rep_idxs))"
   ]
  },
  {
   "cell_type": "code",
   "execution_count": null,
   "metadata": {},
   "outputs": [],
   "source": [
    "plt = Plots.plot([trace_plots[idx][:plot_2d] for idx in rep_idxs]..., titlefontsize=10)\n",
    "p = plot_suptitle(plt, \"Traces of iSWAP-core CQCA\", num_plots = length(rep_idxs),\n",
    "    rel_size = (1.5,1))"
   ]
  },
  {
   "cell_type": "code",
   "execution_count": null,
   "metadata": {},
   "outputs": [],
   "source": [
    "all_plots = []\n",
    "for idx in rep_idxs\n",
    "    if haskey(trace_plots[idx], :fit_plots) && trace_plots[idx][:fits][1]>1.05\n",
    "        push!(all_plots, [Plots.plot(p, titlefontsize=10) for p in trace_plots[idx][:fit_plots]]...)\n",
    "    end\n",
    "end\n",
    "plt, use_size = plot_layout(all_plots, 2; force_grid=true)\n",
    "p = plot_suptitle(plt, \"Traces of iSWAP-core CQCA, Fits to fractal dimension\", size=use_size)"
   ]
  },
  {
   "cell_type": "markdown",
   "metadata": {},
   "source": [
    "### Half-integer time steps"
   ]
  },
  {
   "cell_type": "code",
   "execution_count": null,
   "metadata": {},
   "outputs": [],
   "source": [
    "dims = (time = 1, space = 2, shift = 1)\n",
    "shift_mat = get_shift_mat(dims.space, dims.shift);\n",
    "inv_shift = inv(shift_mat);"
   ]
  },
  {
   "cell_type": "code",
   "execution_count": null,
   "metadata": {},
   "outputs": [],
   "source": [
    "shift_powers = Dict()\n",
    "tf=512\n",
    "@showprogress for idx=[8,9,15]\n",
    "    pows = get_powers(shift_mat * automata[dims][idx]; tf=tf)\n",
    "    # \"undo\" the shift to recenter the automaton\n",
    "    shift_powers[idx] = [automaton_to_matrix(Matrix(inv_shift^(t) * pows[t+1]), 2*t) for t=0:tf]\n",
    "end"
   ]
  },
  {
   "cell_type": "code",
   "execution_count": null,
   "metadata": {},
   "outputs": [],
   "source": [
    "stabs_shift = Dict()\n",
    "tf=128\n",
    "for idx=keys(shift_powers)\n",
    "    stabs_shift[idx] = [get_pauli_image(shift_powers[idx],i,dims.time/dims.space, tf=tf, stabilize=false) \n",
    "        for i=1:2*dims.space]\n",
    "    for i=1:2*dims.space # matches (time = 2, space = 2, shift = 0) at integer time steps\n",
    "        @assert stabs_shift[idx][i][1:2:end,:]==stabs[idx][i]\n",
    "    end\n",
    "end"
   ]
  },
  {
   "cell_type": "code",
   "execution_count": null,
   "metadata": {},
   "outputs": [],
   "source": [
    "bins = Bool[0,0,1,0]\n",
    "tag=\"Z\"\n",
    "all_plots = []\n",
    "for idx=[8,9,15]\n",
    "    tag, p = plot_together(bins, stabs_shift[idx], dims.space)\n",
    "    push!(all_plots, Plots.plot(p,aspect_ratio=1))\n",
    "end\n",
    "plt = Plots.plot(all_plots..., layout=(1,3),size=(900,300),axis=false)"
   ]
  },
  {
   "cell_type": "code",
   "execution_count": null,
   "metadata": {
    "scrolled": true
   },
   "outputs": [],
   "source": [
    "periods = get_automaton_periods([shift_mat * automata[dims][idx] for idx=1:length(automata[dims])], [16:2:256;], dims, rep_idxs; \n",
    "    max_t=1000, save = false);"
   ]
  },
  {
   "cell_type": "code",
   "execution_count": null,
   "metadata": {
    "scrolled": true
   },
   "outputs": [],
   "source": [
    "dims"
   ]
  },
  {
   "cell_type": "code",
   "execution_count": null,
   "metadata": {
    "scrolled": true
   },
   "outputs": [],
   "source": [
    "periods[2]"
   ]
  },
  {
   "cell_type": "code",
   "execution_count": null,
   "metadata": {},
   "outputs": [],
   "source": [
    "recurrence_times = load(\"../data/periods/$(dims.time)x$(dims.space).jld2\");"
   ]
  },
  {
   "cell_type": "code",
   "execution_count": null,
   "metadata": {},
   "outputs": [],
   "source": [
    "lengths = 16:2:256;\n",
    "period_arrs = [[recurrence_times[\"periods\"][idx][L] for L in lengths] for idx in rep_idxs];"
   ]
  },
  {
   "cell_type": "code",
   "execution_count": null,
   "metadata": {},
   "outputs": [],
   "source": [
    "p = Plots.plot(xlabel = L\"m\", ylabel = L\"\\tau(m)\", legend=:topleft,\n",
    "    title = \"Periods of poor-scrambling iSWAP-core Circuits\",\n",
    "    titlefontsize=10)\n",
    "for idx_i=1:length(rep_idxs)\n",
    "    if any(t->t>recurrence_times[\"tmax\"], period_arrs[idx_i])\n",
    "        continue\n",
    "    end\n",
    "    @assert period_arrs[idx_i]==[periods[rep_idxs[idx_i]][L] for L in lengths]\n",
    "    Plots.plot!(lengths ./ dims.space, period_arrs[idx_i]./2, label=get_gate_label(rep_idxs[idx_i]))\n",
    "end\n",
    "for mult=1:3\n",
    "    Plots.plot!(lengths ./ dims.space, mult * lengths ./ dims.space, color=:black, label=\"\",linestyle=:dash)\n",
    "end\n",
    "p"
   ]
  },
  {
   "cell_type": "markdown",
   "metadata": {},
   "source": [
    "### Kagome lattice"
   ]
  },
  {
   "cell_type": "code",
   "execution_count": null,
   "metadata": {},
   "outputs": [],
   "source": [
    "dims = (time = 4, space = 4, shift = 0);"
   ]
  },
  {
   "cell_type": "code",
   "execution_count": null,
   "metadata": {},
   "outputs": [],
   "source": [
    "idxs = [2,3];"
   ]
  },
  {
   "cell_type": "code",
   "execution_count": null,
   "metadata": {},
   "outputs": [],
   "source": [
    "R, x = LaurentPolynomialRing(GF(2), \"x\");"
   ]
  },
  {
   "cell_type": "code",
   "execution_count": null,
   "metadata": {},
   "outputs": [],
   "source": [
    "kagome_powers = Dict()\n",
    "tf=128\n",
    "num = 3\n",
    "for idx=idxs\n",
    "    pows = get_powers(automata[dims][idx]; tf=tf)\n",
    "    kagome_powers[idx] = [[automaton_to_matrix(x^j * pows[t+1], t+j) for t=0:tf] for j=0:num-1]\n",
    "end"
   ]
  },
  {
   "cell_type": "code",
   "execution_count": null,
   "metadata": {},
   "outputs": [],
   "source": [
    "kagome_stabs = Dict()\n",
    "for idx=idxs\n",
    "    kagome_stabs[idx] = [[get_pauli_image(kagome_powers[idx][j],i,dims.time÷dims.space, \n",
    "            tf=tf, stabilize=false,padding = num) \n",
    "        for i=1:2*dims.space] for j=1:num]\n",
    "end"
   ]
  },
  {
   "cell_type": "code",
   "execution_count": null,
   "metadata": {},
   "outputs": [],
   "source": [
    "idx = 2\n",
    "all_plots = []\n",
    "for paulis in [[QuantumClifford.P\"XXXX\", QuantumClifford.P\"IIII\"],[QuantumClifford.P\"XXXX\", QuantumClifford.P\"XXXX\"]]\n",
    "    pauli_ops = [stab_to_gf2(Stabilizer([pauli]))[1,:] for pauli in paulis]\n",
    "    tag, p, _ = plot_multicell(pauli_ops, kagome_stabs[idx][[1,3]], dims.space; aspect = dims.space)\n",
    "    push!(all_plots, Plots.plot(p, title = tag))\n",
    "end\n",
    "p = plot_suptitle(Plots.plot(all_plots...), L\"D_6\" * \"-symmetric kagome circuit\", size = (600, 300))"
   ]
  },
  {
   "cell_type": "code",
   "execution_count": null,
   "metadata": {
    "scrolled": true
   },
   "outputs": [],
   "source": [
    "idx = 3\n",
    "tag, all_plots = plot_separate(Bool[0,0,0,0,1,0,0,0], kagome_stabs[idx][1] .+ kagome_stabs[idx][2], dims.space)\n",
    "for j=1:dims.space\n",
    "    if j%2==0\n",
    "        Plots.plot!(all_plots[j],yformatter=_->\"\")\n",
    "    else\n",
    "        Plots.plot!(all_plots[j], ylabel = L\"t/T\")\n",
    "    end\n",
    "    Plots.plot!(all_plots[j], xlabel = L\"n\")\n",
    "    Plots.annotate!((-tf*0.85, tf/4,get_legend_key(j, lab=\"j\")), annotationhalign=:left,annotationfontsize=12)\n",
    "end\n",
    "plt=Plots.plot(all_plots...,layout=(2,2),share_x=true, share_y=true)\n",
    "p = plot_suptitle(plt, \"CNOT class kagome lattice circuit\", size=(600,500))"
   ]
  },
  {
   "cell_type": "code",
   "execution_count": null,
   "metadata": {},
   "outputs": [],
   "source": [
    "tf=64;"
   ]
  },
  {
   "cell_type": "code",
   "execution_count": null,
   "metadata": {},
   "outputs": [],
   "source": [
    "### Compare to CNOT model\n",
    "automat = R[x+1 x 0 0; 1 1 0 0; 0 0 1 1; 0 0 x^(-1) 1 + x^(-1)];"
   ]
  },
  {
   "cell_type": "code",
   "execution_count": null,
   "metadata": {},
   "outputs": [],
   "source": [
    "Ry, y = PolynomialRing(R, \"y\");"
   ]
  },
  {
   "cell_type": "code",
   "execution_count": null,
   "metadata": {},
   "outputs": [],
   "source": [
    "cnot_pows=get_traces(automat,charpoly(Ry, automat); tf=tf);"
   ]
  },
  {
   "cell_type": "code",
   "execution_count": null,
   "metadata": {},
   "outputs": [],
   "source": [
    "laurent_cnot = [laurent_to_array(cnot_pows[t], size(automat,2) * t, check=true) for t=1:tf];"
   ]
  },
  {
   "cell_type": "code",
   "execution_count": null,
   "metadata": {},
   "outputs": [],
   "source": [
    "d6_pows = get_traces(automata[dims][2], charpoly(Ry, automata[dims][2]); tf=tf);"
   ]
  },
  {
   "cell_type": "code",
   "execution_count": null,
   "metadata": {},
   "outputs": [],
   "source": [
    "laurent_d6 = [laurent_to_array(d6_pows[t], size(automat,2) * t, check=true) for t=1:tf];"
   ]
  },
  {
   "cell_type": "code",
   "execution_count": null,
   "metadata": {},
   "outputs": [],
   "source": [
    "p = Plots.plot(aspect_ratio=:equal, legend=false, xlims=(-tf-tf/50,tf+tf/50), ylims=(-tf/50,tf+tf/50),\n",
    "    size = (600,300), xlabel = L\"n\", ylabel = L\"t\")\n",
    "sz = 1.5\n",
    "for t=1:tf\n",
    "    if t%3==0\n",
    "        Plots.scatter!(laurent_cnot[t], fill(t, length(laurent_cnot[t])), color=:red, markersize=sz, msc=:auto)\n",
    "        @assert isempty(laurent_d6[t])\n",
    "    else\n",
    "        @assert laurent_d6[t]==laurent_cnot[t]\n",
    "    end\n",
    "    Plots.scatter!(laurent_d6[t], fill(t, length(laurent_d6[t])), color=:black, markersize=sz, msc=:auto)\n",
    "end\n",
    "p"
   ]
  },
  {
   "cell_type": "code",
   "execution_count": null,
   "metadata": {},
   "outputs": [],
   "source": [
    "versioninfo()"
   ]
  }
 ],
 "metadata": {
  "celltoolbar": "Hide code",
  "hide_code_all_hidden": false,
  "kernelspec": {
   "display_name": "Julia 1.9.1",
   "language": "julia",
   "name": "julia-1.9"
  },
  "language_info": {
   "file_extension": ".jl",
   "mimetype": "application/julia",
   "name": "julia",
   "version": "1.9.1"
  }
 },
 "nbformat": 4,
 "nbformat_minor": 2
}
